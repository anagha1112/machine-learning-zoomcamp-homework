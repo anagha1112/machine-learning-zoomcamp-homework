{
 "cells": [
  {
   "cell_type": "code",
   "execution_count": 2,
   "id": "c29e9bd2-ad3a-4a48-b936-ff1d4016b20a",
   "metadata": {},
   "outputs": [],
   "source": [
    "import pandas as pd\n"
   ]
  },
  {
   "cell_type": "code",
   "execution_count": 2,
   "id": "ee058c19-8330-463b-8738-229ed626ce30",
   "metadata": {},
   "outputs": [
    {
     "name": "stdout",
     "output_type": "stream",
     "text": [
      "--2025-10-05 06:20:49--  https://raw.githubusercontent.com/alexeygrigorev/datasets/master/car_fuel_efficiency.csv\n",
      "Resolving raw.githubusercontent.com (raw.githubusercontent.com)... 185.199.109.133, 185.199.110.133, 185.199.111.133, ...\n",
      "Connecting to raw.githubusercontent.com (raw.githubusercontent.com)|185.199.109.133|:443... connected.\n",
      "HTTP request sent, awaiting response... 200 OK\n",
      "Length: 874188 (854K) [text/plain]\n",
      "Saving to: ‘car_fuel_efficiency.csv.2’\n",
      "\n",
      "car_fuel_efficiency 100%[===================>] 853.70K  3.61MB/s    in 0.2s    \n",
      "\n",
      "2025-10-05 06:20:49 (3.61 MB/s) - ‘car_fuel_efficiency.csv.2’ saved [874188/874188]\n",
      "\n"
     ]
    }
   ],
   "source": [
    "!wget https://raw.githubusercontent.com/alexeygrigorev/datasets/master/car_fuel_efficiency.csv"
   ]
  },
  {
   "cell_type": "code",
   "execution_count": 3,
   "id": "537492b1-4f14-41b8-8eff-bac1464cf63a",
   "metadata": {},
   "outputs": [],
   "source": [
    "df = pd.read_csv('car_fuel_efficiency.csv')"
   ]
  },
  {
   "cell_type": "code",
   "execution_count": 4,
   "id": "3e62dbb6-67d3-4051-9c69-bdd87a3f2d21",
   "metadata": {},
   "outputs": [
    {
     "data": {
      "text/html": [
       "<div>\n",
       "<style scoped>\n",
       "    .dataframe tbody tr th:only-of-type {\n",
       "        vertical-align: middle;\n",
       "    }\n",
       "\n",
       "    .dataframe tbody tr th {\n",
       "        vertical-align: top;\n",
       "    }\n",
       "\n",
       "    .dataframe thead th {\n",
       "        text-align: right;\n",
       "    }\n",
       "</style>\n",
       "<table border=\"1\" class=\"dataframe\">\n",
       "  <thead>\n",
       "    <tr style=\"text-align: right;\">\n",
       "      <th></th>\n",
       "      <th>engine_displacement</th>\n",
       "      <th>num_cylinders</th>\n",
       "      <th>horsepower</th>\n",
       "      <th>vehicle_weight</th>\n",
       "      <th>acceleration</th>\n",
       "      <th>model_year</th>\n",
       "      <th>origin</th>\n",
       "      <th>fuel_type</th>\n",
       "      <th>drivetrain</th>\n",
       "      <th>num_doors</th>\n",
       "      <th>fuel_efficiency_mpg</th>\n",
       "    </tr>\n",
       "  </thead>\n",
       "  <tbody>\n",
       "    <tr>\n",
       "      <th>0</th>\n",
       "      <td>170</td>\n",
       "      <td>3.0</td>\n",
       "      <td>159.0</td>\n",
       "      <td>3413.433759</td>\n",
       "      <td>17.7</td>\n",
       "      <td>2003</td>\n",
       "      <td>Europe</td>\n",
       "      <td>Gasoline</td>\n",
       "      <td>All-wheel drive</td>\n",
       "      <td>0.0</td>\n",
       "      <td>13.231729</td>\n",
       "    </tr>\n",
       "    <tr>\n",
       "      <th>1</th>\n",
       "      <td>130</td>\n",
       "      <td>5.0</td>\n",
       "      <td>97.0</td>\n",
       "      <td>3149.664934</td>\n",
       "      <td>17.8</td>\n",
       "      <td>2007</td>\n",
       "      <td>USA</td>\n",
       "      <td>Gasoline</td>\n",
       "      <td>Front-wheel drive</td>\n",
       "      <td>0.0</td>\n",
       "      <td>13.688217</td>\n",
       "    </tr>\n",
       "    <tr>\n",
       "      <th>2</th>\n",
       "      <td>170</td>\n",
       "      <td>NaN</td>\n",
       "      <td>78.0</td>\n",
       "      <td>3079.038997</td>\n",
       "      <td>15.1</td>\n",
       "      <td>2018</td>\n",
       "      <td>Europe</td>\n",
       "      <td>Gasoline</td>\n",
       "      <td>Front-wheel drive</td>\n",
       "      <td>0.0</td>\n",
       "      <td>14.246341</td>\n",
       "    </tr>\n",
       "    <tr>\n",
       "      <th>3</th>\n",
       "      <td>220</td>\n",
       "      <td>4.0</td>\n",
       "      <td>NaN</td>\n",
       "      <td>2542.392402</td>\n",
       "      <td>20.2</td>\n",
       "      <td>2009</td>\n",
       "      <td>USA</td>\n",
       "      <td>Diesel</td>\n",
       "      <td>All-wheel drive</td>\n",
       "      <td>2.0</td>\n",
       "      <td>16.912736</td>\n",
       "    </tr>\n",
       "    <tr>\n",
       "      <th>4</th>\n",
       "      <td>210</td>\n",
       "      <td>1.0</td>\n",
       "      <td>140.0</td>\n",
       "      <td>3460.870990</td>\n",
       "      <td>14.4</td>\n",
       "      <td>2009</td>\n",
       "      <td>Europe</td>\n",
       "      <td>Gasoline</td>\n",
       "      <td>All-wheel drive</td>\n",
       "      <td>2.0</td>\n",
       "      <td>12.488369</td>\n",
       "    </tr>\n",
       "  </tbody>\n",
       "</table>\n",
       "</div>"
      ],
      "text/plain": [
       "   engine_displacement  num_cylinders  horsepower  vehicle_weight  \\\n",
       "0                  170            3.0       159.0     3413.433759   \n",
       "1                  130            5.0        97.0     3149.664934   \n",
       "2                  170            NaN        78.0     3079.038997   \n",
       "3                  220            4.0         NaN     2542.392402   \n",
       "4                  210            1.0       140.0     3460.870990   \n",
       "\n",
       "   acceleration  model_year  origin fuel_type         drivetrain  num_doors  \\\n",
       "0          17.7        2003  Europe  Gasoline    All-wheel drive        0.0   \n",
       "1          17.8        2007     USA  Gasoline  Front-wheel drive        0.0   \n",
       "2          15.1        2018  Europe  Gasoline  Front-wheel drive        0.0   \n",
       "3          20.2        2009     USA    Diesel    All-wheel drive        2.0   \n",
       "4          14.4        2009  Europe  Gasoline    All-wheel drive        2.0   \n",
       "\n",
       "   fuel_efficiency_mpg  \n",
       "0            13.231729  \n",
       "1            13.688217  \n",
       "2            14.246341  \n",
       "3            16.912736  \n",
       "4            12.488369  "
      ]
     },
     "execution_count": 4,
     "metadata": {},
     "output_type": "execute_result"
    }
   ],
   "source": [
    "df.head(5)"
   ]
  },
  {
   "cell_type": "code",
   "execution_count": 5,
   "id": "97175f81-ddcb-402f-baca-8abe152c5799",
   "metadata": {},
   "outputs": [],
   "source": [
    "#prepare the dataset\n",
    "\n",
    "df.drop(['num_cylinders', 'acceleration', 'origin', 'fuel_type', 'drivetrain', 'num_doors'], axis = 1,inplace=True)"
   ]
  },
  {
   "cell_type": "code",
   "execution_count": 6,
   "id": "4aae44a5-f563-498f-9fae-ba90d0f20a15",
   "metadata": {},
   "outputs": [
    {
     "data": {
      "image/png": "[encoded data removed]",
      "text/plain": [
       "<Figure size 800x500 with 1 Axes>"
      ]
     },
     "metadata": {},
     "output_type": "display_data"
    }
   ],
   "source": [
    "#EDA \n",
    "\n",
    "import seaborn as sns\n",
    "import matplotlib.pyplot as plt\n",
    "\n",
    "plt.figure(figsize=(8,5))\n",
    "\n",
    "\n",
    "sns.histplot(df['fuel_efficiency_mpg'],bins=100,kde=True)\n",
    "plt.xlabel('Fuel Efficiency (mpg)')\n",
    "plt.ylabel('Count')\n",
    "plt.show()\n"
   ]
  },
  {
   "cell_type": "code",
   "execution_count": 11,
   "id": "c1a603db-37a8-4919-8323-c51f943a58b7",
   "metadata": {},
   "outputs": [],
   "source": [
    "# Fuel efficiency have a slight long tail at right"
   ]
  },
  {
   "cell_type": "code",
   "execution_count": 8,
   "id": "c8a1aa12-e4d1-44b1-ad13-3355643584bd",
   "metadata": {},
   "outputs": [
    {
     "data": {
      "text/plain": [
       "engine_displacement      0\n",
       "horsepower             708\n",
       "vehicle_weight           0\n",
       "model_year               0\n",
       "fuel_efficiency_mpg      0\n",
       "dtype: int64"
      ]
     },
     "execution_count": 8,
     "metadata": {},
     "output_type": "execute_result"
    }
   ],
   "source": [
    "#Q1 What is one column with missing value ?  - horsepower with 708 values missing\n",
    "\n",
    "df.isnull().sum()"
   ]
  },
  {
   "cell_type": "code",
   "execution_count": 9,
   "id": "ab2c812d-8c88-4a03-8103-6824d0c42391",
   "metadata": {},
   "outputs": [
    {
     "data": {
      "text/plain": [
       "149.0"
      ]
     },
     "execution_count": 9,
     "metadata": {},
     "output_type": "execute_result"
    }
   ],
   "source": [
    "# Q2 What's the median (50% percentile) for variable 'horsepower'? - 149.0\n",
    "\n",
    "df['horsepower'].median()"
   ]
  },
  {
   "cell_type": "code",
   "execution_count": 10,
   "id": "5597355c-7cd2-44d4-8642-5cb2e10af009",
   "metadata": {},
   "outputs": [],
   "source": [
    "import numpy as np"
   ]
  },
  {
   "cell_type": "code",
   "execution_count": null,
   "id": "c485f6ba-f797-4aff-b150-d80efc03a1c3",
   "metadata": {},
   "outputs": [],
   "source": [
    "# Prepare and split the dataset\n",
    "\n",
    "#shuffling \n",
    "np.random.seed(42)\n",
    "\n",
    "n = len(df)\n",
    "\n",
    "n_test = int(0.2 * n) #20% for test\n",
    "n_val = int(0.2 * n) #20 for validation \n",
    "n_train = n - (n_val + n_test) #remaining 40 for training\n",
    "\n",
    "idx = np.arange(n)\n",
    "\n",
    "np.random.shuffle(idx)"
   ]
  },
  {
   "cell_type": "code",
   "execution_count": 12,
   "id": "242ce979-1b18-4a81-a185-0a6470426ad6",
   "metadata": {},
   "outputs": [],
   "source": [
    "#shuffling\n",
    "\n",
    "df_shuffled = df.iloc[idx]"
   ]
  },
  {
   "cell_type": "code",
   "execution_count": 13,
   "id": "da72e466-2e5a-48b4-b949-99032636f5a4",
   "metadata": {},
   "outputs": [],
   "source": [
    "#splitting dataset into train/val/test sets, with 60%/20%/20%\n",
    "\n",
    "df_train = df_shuffled.iloc[:n_train].copy()\n",
    "df_val = df_shuffled.iloc[n_train:n_train+n_val].copy()\n",
    "df_test = df_shuffled.iloc[n_train+n_val:].copy()\n"
   ]
  },
  {
   "cell_type": "code",
   "execution_count": 14,
   "id": "00a17c5b-0a43-43df-9a25-911431b39c8e",
   "metadata": {},
   "outputs": [],
   "source": [
    "y_train = df_train.fuel_efficiency_mpg.values\n",
    "y_val = df_val.fuel_efficiency_mpg.values\n",
    "y_test = df_test.fuel_efficiency_mpg.values\n"
   ]
  },
  {
   "cell_type": "code",
   "execution_count": 15,
   "id": "ef195283-fc43-43b7-a272-b36f1f655872",
   "metadata": {},
   "outputs": [
    {
     "data": {
      "text/plain": [
       "engine_displacement      0\n",
       "horsepower             413\n",
       "vehicle_weight           0\n",
       "model_year               0\n",
       "fuel_efficiency_mpg      0\n",
       "dtype: int64"
      ]
     },
     "execution_count": 15,
     "metadata": {},
     "output_type": "execute_result"
    }
   ],
   "source": [
    "#Q3 - Handling missing values\n",
    "\n",
    "df_train.isnull().sum()\n",
    "\n"
   ]
  },
  {
   "cell_type": "code",
   "execution_count": 16,
   "id": "46bccb00-d8dd-4a61-b5db-49add060f1ff",
   "metadata": {},
   "outputs": [],
   "source": [
    "#fill with zero\n",
    "\n",
    "df_train_0 = df_train.copy()\n",
    "df_train_0['horsepower']=df_train_0['horsepower'].fillna(0)"
   ]
  },
  {
   "cell_type": "code",
   "execution_count": 17,
   "id": "fda5c0e2-81fe-4d57-a1d3-06af4300c786",
   "metadata": {},
   "outputs": [
    {
     "data": {
      "text/plain": [
       "engine_displacement    0\n",
       "horsepower             0\n",
       "vehicle_weight         0\n",
       "model_year             0\n",
       "fuel_efficiency_mpg    0\n",
       "dtype: int64"
      ]
     },
     "execution_count": 17,
     "metadata": {},
     "output_type": "execute_result"
    }
   ],
   "source": [
    "df_train_0.isnull().sum()"
   ]
  },
  {
   "cell_type": "code",
   "execution_count": 18,
   "id": "a94343a8-e844-4b7a-a8ec-3bb64f6fb381",
   "metadata": {},
   "outputs": [],
   "source": [
    "#Linear Regression Function\n",
    "\n",
    "def train_linear_regression(X, y):\n",
    "    ones = np.ones(X.shape[0])\n",
    "    X = np.column_stack([ones, X])\n",
    "\n",
    "    XTX = X.T.dot(X)\n",
    "    XTX_inv = np.linalg.inv(XTX)\n",
    "    w = XTX_inv.dot(X.T).dot(y)\n",
    "    \n",
    "    return w[0], w[1:]"
   ]
  },
  {
   "cell_type": "code",
   "execution_count": 19,
   "id": "278a25ed-6d2a-4972-b47b-5bdef30402b9",
   "metadata": {},
   "outputs": [],
   "source": [
    "def rmse(y, y_pred):\n",
    "    error = y_pred - y\n",
    "    mse = (error ** 2).mean()\n",
    "    return np.sqrt(mse)"
   ]
  },
  {
   "cell_type": "code",
   "execution_count": 20,
   "id": "4a865537-03db-49d4-82d0-71f442a5aa97",
   "metadata": {},
   "outputs": [
    {
     "data": {
      "text/plain": [
       "(np.float64(25.90435760833672),\n",
       " array([ 0.0001526 ,  0.00378541, -0.00500641,  0.00176812]))"
      ]
     },
     "execution_count": 20,
     "metadata": {},
     "output_type": "execute_result"
    }
   ],
   "source": [
    "# Linear regression applying\n",
    "X_train_0 = df_train_0.drop(['fuel_efficiency_mpg'], axis = 1)\n",
    "w0, w1 = train_linear_regression(X_train_0, y_train)\n",
    "w0, w1"
   ]
  },
  {
   "cell_type": "code",
   "execution_count": 21,
   "id": "e72d9c0b-dc84-4a6c-91ba-edb35999d690",
   "metadata": {},
   "outputs": [],
   "source": [
    "y_pred_0 = w0 + X_train_0.dot(w1)"
   ]
  },
  {
   "cell_type": "code",
   "execution_count": 22,
   "id": "41662c93-3c0c-4eb3-8473-f17ca105739c",
   "metadata": {},
   "outputs": [
    {
     "data": {
      "image/png": "[encoded data removed]",
      "text/plain": [
       "<Figure size 600x400 with 1 Axes>"
      ]
     },
     "metadata": {},
     "output_type": "display_data"
    }
   ],
   "source": [
    "plt.figure(figsize=(6, 4))\n",
    "\n",
    "sns.histplot(y_train, label='target', color='#222222', alpha=0.6, bins=40)\n",
    "sns.histplot(y_pred_0, label='prediction', color='#aaaaaa', alpha=0.8, bins=40)\n",
    "\n",
    "plt.legend()\n",
    "\n",
    "plt.ylabel('count')\n",
    "plt.xlabel('Fuel efficiency mpg')\n",
    "plt.title('Predictions vs actual distribution')\n",
    "\n",
    "plt.show()"
   ]
  },
  {
   "cell_type": "code",
   "execution_count": 23,
   "id": "d111fed8-a648-44c3-a03d-133f347d6e1e",
   "metadata": {},
   "outputs": [
    {
     "data": {
      "text/plain": [
       "engine_displacement      0\n",
       "horsepower             134\n",
       "vehicle_weight           0\n",
       "model_year               0\n",
       "fuel_efficiency_mpg      0\n",
       "dtype: int64"
      ]
     },
     "execution_count": 23,
     "metadata": {},
     "output_type": "execute_result"
    }
   ],
   "source": [
    "df_val.isnull().sum()"
   ]
  },
  {
   "cell_type": "code",
   "execution_count": 25,
   "id": "91de63a9-e97f-4a4c-8bd5-2ca08950f57a",
   "metadata": {},
   "outputs": [],
   "source": [
    "#predict using validation dataset\n",
    "\n",
    "df_test_val = df_val.fillna(0)"
   ]
  },
  {
   "cell_type": "code",
   "execution_count": 26,
   "id": "05b42529-6faf-458a-884e-39091961dc9a",
   "metadata": {},
   "outputs": [],
   "source": [
    "X_test_val = df_test_val.drop(['fuel_efficiency_mpg'], axis=1)"
   ]
  },
  {
   "cell_type": "code",
   "execution_count": 27,
   "id": "d373f09f-1051-4f0e-8a8d-8f38a354d471",
   "metadata": {},
   "outputs": [],
   "source": [
    "y_test_val = df_test_val['fuel_efficiency_mpg']"
   ]
  },
  {
   "cell_type": "code",
   "execution_count": 28,
   "id": "bb531e9a-9e31-47e6-b614-f0d5325a2efa",
   "metadata": {},
   "outputs": [],
   "source": [
    "y_val_pred = w0 + X_test_val.dot(w1)"
   ]
  },
  {
   "cell_type": "code",
   "execution_count": 29,
   "id": "77250cb3-b565-4feb-b008-e9dfe7657700",
   "metadata": {},
   "outputs": [
    {
     "data": {
      "text/plain": [
       "np.float64(0.5228069974694654)"
      ]
     },
     "execution_count": 29,
     "metadata": {},
     "output_type": "execute_result"
    }
   ],
   "source": [
    "rmse_0 = rmse(y_val, y_val_pred)\n",
    "rmse_0"
   ]
  },
  {
   "cell_type": "code",
   "execution_count": 30,
   "id": "fd985ef7-c2d5-4201-9894-8656d8994558",
   "metadata": {},
   "outputs": [],
   "source": [
    "#fill with mean\n",
    "\n",
    "df_train_mean = df_train.copy()\n",
    "mean = df_train_mean['horsepower'].mean()\n",
    "df_train_mean['horsepower'] = df_train_mean['horsepower'].fillna(mean)"
   ]
  },
  {
   "cell_type": "code",
   "execution_count": 31,
   "id": "db17bf12-0d7b-4a69-9c53-1369e4d1c5a0",
   "metadata": {},
   "outputs": [
    {
     "data": {
      "text/plain": [
       "engine_displacement    0\n",
       "horsepower             0\n",
       "vehicle_weight         0\n",
       "model_year             0\n",
       "fuel_efficiency_mpg    0\n",
       "dtype: int64"
      ]
     },
     "execution_count": 31,
     "metadata": {},
     "output_type": "execute_result"
    }
   ],
   "source": [
    "\n",
    "#fill with mean\n",
    "df_train_mean.isnull().sum()"
   ]
  },
  {
   "cell_type": "code",
   "execution_count": 32,
   "id": "d6cf1c45-6d34-4f67-967b-78d5488dba5b",
   "metadata": {},
   "outputs": [],
   "source": [
    "X_train_mean = df_train_mean.drop(['fuel_efficiency_mpg'],axis=1)"
   ]
  },
  {
   "cell_type": "code",
   "execution_count": 33,
   "id": "eb17552c-20de-4921-bf95-f4d3bf2f8e5b",
   "metadata": {},
   "outputs": [],
   "source": [
    "w0, w1 = train_linear_regression(X_train_mean, y_train)"
   ]
  },
  {
   "cell_type": "code",
   "execution_count": 34,
   "id": "c3dbe43b-5c4d-4c4e-9ab8-a4979bec5dd0",
   "metadata": {},
   "outputs": [],
   "source": [
    "y_pred_mean = w0 + X_train_mean.dot(w1)"
   ]
  },
  {
   "cell_type": "code",
   "execution_count": 35,
   "id": "3f53b88c-9a36-4f4e-881e-46b3cf93f6b2",
   "metadata": {},
   "outputs": [
    {
     "data": {
      "image/png": "[encoded data removed]",
      "text/plain": [
       "<Figure size 600x400 with 1 Axes>"
      ]
     },
     "metadata": {},
     "output_type": "display_data"
    }
   ],
   "source": [
    "plt.figure(figsize=(6, 4))\n",
    "\n",
    "sns.histplot(y_train, label='target', color='#333333', alpha=0.6, bins=40)\n",
    "sns.histplot(y_pred_mean, label='prediction', color='#aaaaaa', alpha=0.8, bins=40)\n",
    "\n",
    "plt.legend()\n",
    "\n",
    "plt.ylabel('count')\n",
    "plt.xlabel('Fuel efficiency mpg')\n",
    "plt.title('Predictions vs actual distribution')\n",
    "\n",
    "plt.show()"
   ]
  },
  {
   "cell_type": "code",
   "execution_count": 46,
   "id": "01c6b0a4-4705-4b27-8de4-3f39c9609b97",
   "metadata": {},
   "outputs": [],
   "source": [
    "#predict using validation dataset\n",
    "\n",
    "#fill with mean\n",
    "\n",
    "mean = df_val['horsepower'].mean()\n",
    "df_test_val = df_val.copy()\n",
    "df_test_val['horsepower'] = df_test_val['horsepower'].fillna(mean)"
   ]
  },
  {
   "cell_type": "code",
   "execution_count": 47,
   "id": "54b35e5c",
   "metadata": {},
   "outputs": [],
   "source": [
    "X_test_val_mean = df_test_val.drop(['fuel_efficiency_mpg'],axis=1)"
   ]
  },
  {
   "cell_type": "code",
   "execution_count": 48,
   "id": "83d28c0a",
   "metadata": {},
   "outputs": [],
   "source": [
    "y_test_val_mean = df_test_val['fuel_efficiency_mpg']"
   ]
  },
  {
   "cell_type": "code",
   "execution_count": 49,
   "id": "b140d511",
   "metadata": {},
   "outputs": [],
   "source": [
    "y_val_mean_pred = w0 + X_test_val_mean.dot(w1)"
   ]
  },
  {
   "cell_type": "code",
   "execution_count": 50,
   "id": "633789a7-2c95-4bf7-8552-0fba00f49b09",
   "metadata": {},
   "outputs": [
    {
     "data": {
      "text/plain": [
       "np.float64(0.46974029192429934)"
      ]
     },
     "execution_count": 50,
     "metadata": {},
     "output_type": "execute_result"
    }
   ],
   "source": [
    "rmse_mean = rmse(y_test_val_mean, y_val_mean_pred)\n",
    "rmse_mean"
   ]
  },
  {
   "cell_type": "markdown",
   "id": "005754e8",
   "metadata": {},
   "source": [
    "## Regularization model"
   ]
  },
  {
   "cell_type": "code",
   "execution_count": 42,
   "id": "7404f83e-b44d-4d96-b2f4-6b47b3ff08c8",
   "metadata": {},
   "outputs": [],
   "source": [
    "def train_linear_regression_reg(X, y, r=0.0):\n",
    "    ones = np.ones(X.shape[0])\n",
    "    X = np.column_stack([ones, X])\n",
    "\n",
    "    XTX = X.T.dot(X)\n",
    "    reg = r * np.eye(XTX.shape[0])\n",
    "    XTX = XTX + reg\n",
    "\n",
    "    XTX_inv = np.linalg.inv(XTX)\n",
    "    w = XTX_inv.dot(X.T).dot(y)\n",
    "    \n",
    "    return w[0], w[1:]"
   ]
  },
  {
   "cell_type": "code",
   "execution_count": 43,
   "id": "34714284-8f0c-4acb-bc55-5ba39927b487",
   "metadata": {},
   "outputs": [],
   "source": [
    "df_train.fillna(0,inplace=True)"
   ]
  },
  {
   "cell_type": "code",
   "execution_count": 44,
   "id": "c0c2770f",
   "metadata": {},
   "outputs": [
    {
     "data": {
      "text/plain": [
       "engine_displacement    0\n",
       "horsepower             0\n",
       "vehicle_weight         0\n",
       "model_year             0\n",
       "fuel_efficiency_mpg    0\n",
       "dtype: int64"
      ]
     },
     "execution_count": 44,
     "metadata": {},
     "output_type": "execute_result"
    }
   ],
   "source": [
    "df_train.isnull().sum()"
   ]
  },
  {
   "cell_type": "code",
   "execution_count": 51,
   "id": "eacb4e9e",
   "metadata": {},
   "outputs": [],
   "source": [
    "X_train = df_train.drop(['fuel_efficiency_mpg'],axis=1)"
   ]
  },
  {
   "cell_type": "code",
   "execution_count": 52,
   "id": "b5b98a7f",
   "metadata": {},
   "outputs": [],
   "source": [
    "y_train = df_train['fuel_efficiency_mpg']"
   ]
  },
  {
   "cell_type": "code",
   "execution_count": 53,
   "id": "84f2fc8b",
   "metadata": {},
   "outputs": [],
   "source": [
    "df_val.fillna(0,inplace=True)"
   ]
  },
  {
   "cell_type": "code",
   "execution_count": 55,
   "metadata": {},
   "outputs": [],
   "source": [
    "X_val = df_val.drop(['fuel_efficiency_mpg'],axis=1)"
   ]
  },
  {
   "cell_type": "code",
   "execution_count": 56,
   "id": "f70ac4bb",
   "metadata": {},
   "outputs": [],
   "source": [
    "y_val = df_val['fuel_efficiency_mpg']"
   ]
  },
  {
   "cell_type": "code",
   "execution_count": 57,
   "id": "3269b654",
   "metadata": {},
   "outputs": [
    {
     "name": "stdout",
     "output_type": "stream",
     "text": [
      "     0 0.5228069974694654\n",
      "  0.01 0.5230773875533775\n",
      "   0.1 0.5260746881702593\n",
      "     1 0.5299717572328457\n",
      "     5 0.5306504452034391\n",
      "    10 0.5307423097118001\n",
      "   100 0.5308264158427396\n"
     ]
    }
   ],
   "source": [
    "\n",
    "for r in [0, 0.01, 0.1, 1, 5, 10, 100]:\n",
    "    w_0, w = train_linear_regression_reg(X_train, y_train, r=r)\n",
    "    y_pred = w_0 + X_val.dot(w)\n",
    "    print('%6s' %r, rmse(y_val, y_pred))"
   ]
  },
  {
   "cell_type": "code",
   "execution_count": 63,
   "metadata": {},
   "outputs": [
    {
     "name": "stdout",
     "output_type": "stream",
     "text": [
      "Seed 0: RMSE = 0.521\n",
      "Seed 1: RMSE = 0.521\n",
      "Seed 2: RMSE = 0.523\n",
      "Seed 3: RMSE = 0.516\n",
      "Seed 4: RMSE = 0.511\n",
      "Seed 5: RMSE = 0.528\n",
      "Seed 6: RMSE = 0.531\n",
      "Seed 7: RMSE = 0.509\n",
      "Seed 8: RMSE = 0.515\n",
      "Seed 9: RMSE = 0.513\n",
      "\n",
      "Standard deviation of RMSE scores: 0.007\n"
     ]
    }
   ],
   "source": [
    "import numpy as np\n",
    "\n",
    "rmse_scores = []   # list to store RMSE values for each seed\n",
    "\n",
    "for s in [0, 1, 2, 3, 4, 5, 6, 7, 8, 9]:\n",
    "    np.random.seed(s)\n",
    "\n",
    "    n = len(df)\n",
    "    n_test = int(0.2 * n)\n",
    "    n_val = int(0.2 * n)\n",
    "    n_train = n - (n_val + n_test)\n",
    "\n",
    "    idx = np.arange(n)\n",
    "    np.random.shuffle(idx)\n",
    "\n",
    "    df_shuffled = df.iloc[idx]\n",
    "\n",
    "    # Split the dataset\n",
    "    df_train = df_shuffled.iloc[:n_train].copy()\n",
    "    df_val = df_shuffled.iloc[n_train:n_train+n_val].copy()\n",
    "    df_test = df_shuffled.iloc[n_train+n_val:].copy()\n",
    "\n",
    "    # Target and features\n",
    "    y_train = df_train.fuel_efficiency_mpg.values\n",
    "    y_val = df_val.fuel_efficiency_mpg.values\n",
    "\n",
    "    df_train.fillna(0, inplace=True)\n",
    "    df_val.fillna(0, inplace=True)\n",
    "\n",
    "    X_train = df_train.drop(['fuel_efficiency_mpg'], axis=1)\n",
    "    X_val = df_val.drop(['fuel_efficiency_mpg'], axis=1)\n",
    "\n",
    "    # Train and predict\n",
    "    w_0, w = train_linear_regression(X_train, y_train)\n",
    "    y_pred = w_0 + X_val.dot(w)\n",
    "\n",
    "    # Compute RMSE\n",
    "    score = rmse(y_val, y_pred)\n",
    "    rmse_scores.append(score)\n",
    "    print(f\"Seed {s}: RMSE = {score:.3f}\")\n",
    "\n",
    "# Compute standard deviation\n",
    "std = np.std(rmse_scores)\n",
    "print(\"\\nStandard deviation of RMSE scores:\", round(std, 3))\n"
   ]
  },
  {
   "cell_type": "code",
   "execution_count": 64,
   "id": "4a08b3be",
   "metadata": {},
   "outputs": [
    {
     "name": "stdout",
     "output_type": "stream",
     "text": [
      "RMSE on test set: 0.516\n"
     ]
    }
   ],
   "source": [
    "# seed 9\n",
    "np.random.seed(9)\n",
    "\n",
    "n = len(df)\n",
    "n_test = int(0.2 * n)\n",
    "n_val = int(0.2 * n)\n",
    "n_train = n - (n_val + n_test)\n",
    "\n",
    "idx = np.arange(n)\n",
    "np.random.shuffle(idx)\n",
    "df_shuffled = df.iloc[idx]\n",
    "\n",
    "# Split the dataset\n",
    "df_train = df_shuffled.iloc[:n_train].copy()\n",
    "df_val = df_shuffled.iloc[n_train:n_train+n_val].copy()\n",
    "df_test = df_shuffled.iloc[n_train+n_val:].copy()\n",
    "\n",
    "# Combine train and validation sets\n",
    "df_full_train = pd.concat([df_train, df_val])\n",
    "\n",
    "# Target and features\n",
    "y_full_train = df_full_train.fuel_efficiency_mpg.values\n",
    "y_test = df_test.fuel_efficiency_mpg.values\n",
    "\n",
    "# Fill missing values with 0\n",
    "df_full_train.fillna(0, inplace=True)\n",
    "df_test.fillna(0, inplace=True)\n",
    "\n",
    "X_full_train = df_full_train.drop(['fuel_efficiency_mpg'], axis=1)\n",
    "X_test = df_test.drop(['fuel_efficiency_mpg'], axis=1)\n",
    "\n",
    "# Train model with regularization r=0.001\n",
    "w_0, w = train_linear_regression_reg(X_full_train, y_full_train, r=0.001)\n",
    "\n",
    "# Predict on test set\n",
    "y_pred = w_0 + X_test.dot(w)\n",
    "\n",
    "# Compute RMSE\n",
    "score = rmse(y_test, y_pred)\n",
    "print(f\"RMSE on test set: {score:.3f}\")\n"
   ]
  }
 ],
 "metadata": {
  "kernelspec": {
   "display_name": "ml-zoomcamp",
   "language": "python",
   "name": "python3"
  },
  "language_info": {
   "codemirror_mode": {
    "name": "ipython",
    "version": 3
   },
   "file_extension": ".py",
   "mimetype": "text/x-python",
   "name": "python",
   "nbconvert_exporter": "python",
   "pygments_lexer": "ipython3",
   "version": "3.11.13"
  }
 },
 "nbformat": 4,
 "nbformat_minor": 5
}
